{
  "nbformat": 4,
  "nbformat_minor": 0,
  "metadata": {
    "colab": {
      "name": "AvaliacaoCursoUnicampV1_samya.ipynb",
      "provenance": []
    },
    "kernelspec": {
      "name": "python3",
      "display_name": "Python 3"
    },
    "language_info": {
      "name": "python"
    }
  },
  "cells": [
    {
      "cell_type": "markdown",
      "metadata": {
        "id": "PEijOpJhIrT0"
      },
      "source": [
        "## COMPUTAÇÃO CIENTÍFICA USANDO PYTHON - Curso UNICAMP - Jul/2021\n",
        "### Prof. Alysson Fernandes\n",
        "#### Aluna: Samya de Lara Pinheiro\n",
        "#### Avaliação geral do curso\n",
        "\n",
        "- resolução de questões\n",
        "- avaliar capacidade de organizar código, consultar documentação\n",
        "- verificar compreensão dos desafios em computação científica e análise de dados"
      ]
    },
    {
      "cell_type": "markdown",
      "metadata": {
        "id": "MVBAMpK8JkzJ"
      },
      "source": [
        "## Exercício 1\n",
        "\n",
        "- Gere um conjunto de valores aleatórios (5000 valores) com distribuição normal.\n",
        "- Faça um histograma desses valores.\n",
        "- Gere um conjunto de valores aleatórios com distribuição uniforme e média 5. Faça um histograma novamente."
      ]
    },
    {
      "cell_type": "code",
      "metadata": {
        "id": "mh7HVoXtJ8Nb"
      },
      "source": [
        "import numpy as np\n",
        "import matplotlib.pyplot as plt"
      ],
      "execution_count": 1,
      "outputs": []
    },
    {
      "cell_type": "code",
      "metadata": {
        "colab": {
          "base_uri": "https://localhost:8080/"
        },
        "id": "K_woFptwLmPS",
        "outputId": "5866ff9c-b84f-4113-ab9d-a5b16280ae74"
      },
      "source": [
        "ex1a = np.random.normal(size=5000)\n",
        "ex1a "
      ],
      "execution_count": 2,
      "outputs": [
        {
          "output_type": "execute_result",
          "data": {
            "text/plain": [
              "array([-0.98634699, -0.63431792, -1.253057  , ..., -0.85159367,\n",
              "       -0.20987108, -0.3402285 ])"
            ]
          },
          "metadata": {
            "tags": []
          },
          "execution_count": 2
        }
      ]
    },
    {
      "cell_type": "code",
      "metadata": {
        "colab": {
          "base_uri": "https://localhost:8080/",
          "height": 298
        },
        "id": "g-4JyeCwMLVc",
        "outputId": "ada83983-3b10-41ae-e6c2-64f8393e8f2d"
      },
      "source": [
        "plt.hist(ex1a, bins=20, color='darkmagenta')\n",
        "plt.title(\"Histograma Ex1 A - Distrib. Normal\")"
      ],
      "execution_count": 12,
      "outputs": [
        {
          "output_type": "execute_result",
          "data": {
            "text/plain": [
              "Text(0.5, 1.0, 'Histograma Ex1 A - Distrib. Normal')"
            ]
          },
          "metadata": {
            "tags": []
          },
          "execution_count": 12
        },
        {
          "output_type": "display_data",
          "data": {
            "image/png": "[encoded data removed]",
            "text/plain": [
              "<Figure size 432x288 with 1 Axes>"
            ]
          },
          "metadata": {
            "tags": [],
            "needs_background": "light"
          }
        }
      ]
    },
    {
      "cell_type": "code",
      "metadata": {
        "colab": {
          "base_uri": "https://localhost:8080/"
        },
        "id": "ZqiIAp9uM4m4",
        "outputId": "795d8aa4-2333-4977-a77d-c52e6fcf08ab"
      },
      "source": [
        "ex1b = np.random.uniform(0,10,5000)\n",
        "ex1b "
      ],
      "execution_count": 8,
      "outputs": [
        {
          "output_type": "execute_result",
          "data": {
            "text/plain": [
              "array([9.08487271, 4.45627821, 3.31422138, ..., 0.54998735, 8.72555569,\n",
              "       2.4839403 ])"
            ]
          },
          "metadata": {
            "tags": []
          },
          "execution_count": 8
        }
      ]
    },
    {
      "cell_type": "code",
      "metadata": {
        "colab": {
          "base_uri": "https://localhost:8080/"
        },
        "id": "6E3virjrNhYp",
        "outputId": "6a8d2f39-914b-444d-8958-92d0bfe22f18"
      },
      "source": [
        "ex1b.mean()"
      ],
      "execution_count": 9,
      "outputs": [
        {
          "output_type": "execute_result",
          "data": {
            "text/plain": [
              "4.949444998330942"
            ]
          },
          "metadata": {
            "tags": []
          },
          "execution_count": 9
        }
      ]
    },
    {
      "cell_type": "code",
      "metadata": {
        "colab": {
          "base_uri": "https://localhost:8080/",
          "height": 298
        },
        "id": "0qrgwHteNoLA",
        "outputId": "c1738161-4106-4c1d-a702-e7d43184431a"
      },
      "source": [
        "plt.hist(ex1b, bins=20, color='olive')\n",
        "plt.title(\"Histograma Ex1 B - Distrib. Uniforme\")"
      ],
      "execution_count": 11,
      "outputs": [
        {
          "output_type": "execute_result",
          "data": {
            "text/plain": [
              "Text(0.5, 1.0, 'Histograma Ex1 B - Distrib. Uniforme')"
            ]
          },
          "metadata": {
            "tags": []
          },
          "execution_count": 11
        },
        {
          "output_type": "display_data",
          "data": {
            "image/png": "[encoded data removed]",
            "text/plain": [
              "<Figure size 432x288 with 1 Axes>"
            ]
          },
          "metadata": {
            "tags": [],
            "needs_background": "light"
          }
        }
      ]
    },
    {
      "cell_type": "markdown",
      "metadata": {
        "id": "NvPNzYiHJ8t7"
      },
      "source": [
        "## Exercício 2\n",
        "- Faça o gráfico da função seno em três períodos.\n",
        "- Faça no mesmo gráfico, a função tangente.\n",
        "- Use algum raciocínio gráfico e encontre os pontos de cruzamento das funções."
      ]
    },
    {
      "cell_type": "code",
      "metadata": {
        "id": "f2hFWjl9KPv2"
      },
      "source": [
        "import numpy as np\n",
        "import matplotlib.pyplot as plt"
      ],
      "execution_count": 13,
      "outputs": []
    },
    {
      "cell_type": "code",
      "metadata": {
        "colab": {
          "base_uri": "https://localhost:8080/"
        },
        "id": "_fqtrMalPRkD",
        "outputId": "9a96b09a-bcd6-49be-e43c-c9f6f513a5cc"
      },
      "source": [
        "p = np.pi\n",
        "x = np.arange(0,6*p,0.1)\n",
        "x"
      ],
      "execution_count": 19,
      "outputs": [
        {
          "output_type": "execute_result",
          "data": {
            "text/plain": [
              "array([ 0. ,  0.1,  0.2,  0.3,  0.4,  0.5,  0.6,  0.7,  0.8,  0.9,  1. ,\n",
              "        1.1,  1.2,  1.3,  1.4,  1.5,  1.6,  1.7,  1.8,  1.9,  2. ,  2.1,\n",
              "        2.2,  2.3,  2.4,  2.5,  2.6,  2.7,  2.8,  2.9,  3. ,  3.1,  3.2,\n",
              "        3.3,  3.4,  3.5,  3.6,  3.7,  3.8,  3.9,  4. ,  4.1,  4.2,  4.3,\n",
              "        4.4,  4.5,  4.6,  4.7,  4.8,  4.9,  5. ,  5.1,  5.2,  5.3,  5.4,\n",
              "        5.5,  5.6,  5.7,  5.8,  5.9,  6. ,  6.1,  6.2,  6.3,  6.4,  6.5,\n",
              "        6.6,  6.7,  6.8,  6.9,  7. ,  7.1,  7.2,  7.3,  7.4,  7.5,  7.6,\n",
              "        7.7,  7.8,  7.9,  8. ,  8.1,  8.2,  8.3,  8.4,  8.5,  8.6,  8.7,\n",
              "        8.8,  8.9,  9. ,  9.1,  9.2,  9.3,  9.4,  9.5,  9.6,  9.7,  9.8,\n",
              "        9.9, 10. , 10.1, 10.2, 10.3, 10.4, 10.5, 10.6, 10.7, 10.8, 10.9,\n",
              "       11. , 11.1, 11.2, 11.3, 11.4, 11.5, 11.6, 11.7, 11.8, 11.9, 12. ,\n",
              "       12.1, 12.2, 12.3, 12.4, 12.5, 12.6, 12.7, 12.8, 12.9, 13. , 13.1,\n",
              "       13.2, 13.3, 13.4, 13.5, 13.6, 13.7, 13.8, 13.9, 14. , 14.1, 14.2,\n",
              "       14.3, 14.4, 14.5, 14.6, 14.7, 14.8, 14.9, 15. , 15.1, 15.2, 15.3,\n",
              "       15.4, 15.5, 15.6, 15.7, 15.8, 15.9, 16. , 16.1, 16.2, 16.3, 16.4,\n",
              "       16.5, 16.6, 16.7, 16.8, 16.9, 17. , 17.1, 17.2, 17.3, 17.4, 17.5,\n",
              "       17.6, 17.7, 17.8, 17.9, 18. , 18.1, 18.2, 18.3, 18.4, 18.5, 18.6,\n",
              "       18.7, 18.8])"
            ]
          },
          "metadata": {
            "tags": []
          },
          "execution_count": 19
        }
      ]
    },
    {
      "cell_type": "code",
      "metadata": {
        "colab": {
          "base_uri": "https://localhost:8080/"
        },
        "id": "R-ozMz4PPhKH",
        "outputId": "1c0927bd-0e98-44a5-ac18-3df364081ae9"
      },
      "source": [
        "sen = np.sin(x,)\n",
        "sen"
      ],
      "execution_count": 23,
      "outputs": [
        {
          "output_type": "execute_result",
          "data": {
            "text/plain": [
              "array([ 0.        ,  0.09983342,  0.19866933,  0.29552021,  0.38941834,\n",
              "        0.47942554,  0.56464247,  0.64421769,  0.71735609,  0.78332691,\n",
              "        0.84147098,  0.89120736,  0.93203909,  0.96355819,  0.98544973,\n",
              "        0.99749499,  0.9995736 ,  0.99166481,  0.97384763,  0.94630009,\n",
              "        0.90929743,  0.86320937,  0.8084964 ,  0.74570521,  0.67546318,\n",
              "        0.59847214,  0.51550137,  0.42737988,  0.33498815,  0.23924933,\n",
              "        0.14112001,  0.04158066, -0.05837414, -0.15774569, -0.2555411 ,\n",
              "       -0.35078323, -0.44252044, -0.52983614, -0.61185789, -0.68776616,\n",
              "       -0.7568025 , -0.81827711, -0.87157577, -0.91616594, -0.95160207,\n",
              "       -0.97753012, -0.993691  , -0.99992326, -0.99616461, -0.98245261,\n",
              "       -0.95892427, -0.92581468, -0.88345466, -0.83226744, -0.77276449,\n",
              "       -0.70554033, -0.63126664, -0.55068554, -0.46460218, -0.37387666,\n",
              "       -0.2794155 , -0.1821625 , -0.0830894 ,  0.0168139 ,  0.1165492 ,\n",
              "        0.21511999,  0.31154136,  0.40484992,  0.49411335,  0.57843976,\n",
              "        0.6569866 ,  0.72896904,  0.79366786,  0.85043662,  0.8987081 ,\n",
              "        0.93799998,  0.96791967,  0.98816823,  0.99854335,  0.99894134,\n",
              "        0.98935825,  0.96988981,  0.94073056,  0.90217183,  0.85459891,\n",
              "        0.79848711,  0.7343971 ,  0.66296923,  0.58491719,  0.50102086,\n",
              "        0.41211849,  0.31909836,  0.22288991,  0.12445442,  0.02477543,\n",
              "       -0.07515112, -0.17432678, -0.27176063, -0.36647913, -0.45753589,\n",
              "       -0.54402111, -0.62507065, -0.69987469, -0.76768581, -0.82782647,\n",
              "       -0.87969576, -0.92277542, -0.95663502, -0.98093623, -0.99543625,\n",
              "       -0.99999021, -0.99455259, -0.97917773, -0.95401925, -0.91932853,\n",
              "       -0.87545217, -0.82282859, -0.76198358, -0.69352508, -0.61813711,\n",
              "       -0.53657292, -0.44964746, -0.35822928, -0.26323179, -0.16560418,\n",
              "       -0.0663219 ,  0.03362305,  0.13323204,  0.23150983,  0.32747444,\n",
              "        0.42016704,  0.50866146,  0.59207351,  0.66956976,  0.74037589,\n",
              "        0.80378443,  0.85916181,  0.90595474,  0.94369567,  0.9720075 ,\n",
              "        0.99060736,  0.99930939,  0.99802665,  0.98677196,  0.96565778,\n",
              "        0.93489506,  0.89479117,  0.84574683,  0.78825207,  0.72288135,\n",
              "        0.65028784,  0.57119687,  0.48639869,  0.39674057,  0.30311836,\n",
              "        0.20646748,  0.10775365,  0.00796318, -0.09190685, -0.19085858,\n",
              "       -0.28790332, -0.38207142, -0.47242199, -0.55805227, -0.63810668,\n",
              "       -0.71178534, -0.77835208, -0.83714178, -0.88756703, -0.92912401,\n",
              "       -0.96139749, -0.98406501, -0.99690007, -0.99977443, -0.99265938,\n",
              "       -0.97562601, -0.9488445 , -0.91258245, -0.86720218, -0.81315711,\n",
              "       -0.75098725, -0.68131377, -0.60483282, -0.52230859, -0.43456562,\n",
              "       -0.34248062, -0.24697366, -0.14899903, -0.04953564])"
            ]
          },
          "metadata": {
            "tags": []
          },
          "execution_count": 23
        }
      ]
    },
    {
      "cell_type": "code",
      "metadata": {
        "colab": {
          "base_uri": "https://localhost:8080/",
          "height": 282
        },
        "id": "E3QhcSZWRAs-",
        "outputId": "74704934-9b27-4a8d-aab0-391e56cf309d"
      },
      "source": [
        "plt.plot(x, sen)"
      ],
      "execution_count": 30,
      "outputs": [
        {
          "output_type": "execute_result",
          "data": {
            "text/plain": [
              "[<matplotlib.lines.Line2D at 0x7ff184c25350>]"
            ]
          },
          "metadata": {
            "tags": []
          },
          "execution_count": 30
        },
        {
          "output_type": "display_data",
          "data": {
            "image/png": "[encoded data removed]",
            "text/plain": [
              "<Figure size 432x288 with 1 Axes>"
            ]
          },
          "metadata": {
            "tags": [],
            "needs_background": "light"
          }
        }
      ]
    },
    {
      "cell_type": "code",
      "metadata": {
        "colab": {
          "base_uri": "https://localhost:8080/"
        },
        "id": "6EHqvU00PpNf",
        "outputId": "a55d3da6-72c7-4b6a-f341-9bbd4b2e64c4"
      },
      "source": [
        "tg = np.tan(x)\n",
        "tg"
      ],
      "execution_count": 24,
      "outputs": [
        {
          "output_type": "execute_result",
          "data": {
            "text/plain": [
              "array([ 0.00000000e+00,  1.00334672e-01,  2.02710036e-01,  3.09336250e-01,\n",
              "        4.22793219e-01,  5.46302490e-01,  6.84136808e-01,  8.42288380e-01,\n",
              "        1.02963856e+00,  1.26015822e+00,  1.55740772e+00,  1.96475966e+00,\n",
              "        2.57215162e+00,  3.60210245e+00,  5.79788372e+00,  1.41014199e+01,\n",
              "       -3.42325327e+01, -7.69660214e+00, -4.28626167e+00, -2.92709751e+00,\n",
              "       -2.18503986e+00, -1.70984654e+00, -1.37382306e+00, -1.11921364e+00,\n",
              "       -9.16014290e-01, -7.47022297e-01, -6.01596613e-01, -4.72727629e-01,\n",
              "       -3.55529832e-01, -2.46405394e-01, -1.42546543e-01, -4.16166546e-02,\n",
              "        5.84738545e-02,  1.59745748e-01,  2.64316901e-01,  3.74585640e-01,\n",
              "        4.93466730e-01,  6.24733075e-01,  7.73556091e-01,  9.47424650e-01,\n",
              "        1.15782128e+00,  1.42352648e+00,  1.77777977e+00,  2.28584788e+00,\n",
              "        3.09632378e+00,  4.63733205e+00,  8.86017490e+00,  8.07127630e+01,\n",
              "       -1.13848707e+01, -5.26749307e+00, -3.38051501e+00, -2.44938942e+00,\n",
              "       -1.88564188e+00, -1.50127340e+00, -1.21754082e+00, -9.95584052e-01,\n",
              "       -8.13943284e-01, -6.59730572e-01, -5.24666222e-01, -4.03110900e-01,\n",
              "       -2.91006191e-01, -1.85262231e-01, -8.33777149e-02,  1.68162777e-02,\n",
              "        1.17348947e-01,  2.20277200e-01,  3.27858007e-01,  4.42757417e-01,\n",
              "        5.68339979e-01,  7.09111151e-01,  8.71447983e-01,  1.06489313e+00,\n",
              "        1.30462094e+00,  1.61656142e+00,  2.04928417e+00,  2.70601387e+00,\n",
              "        3.85226569e+00,  6.44287247e+00,  1.85068216e+01, -2.17151127e+01,\n",
              "       -6.79971146e+00, -3.98239825e+00, -2.77374930e+00, -2.09137751e+00,\n",
              "       -1.64571073e+00, -1.32636433e+00, -1.08203242e+00, -8.85556937e-01,\n",
              "       -7.21146876e-01, -5.78923588e-01, -4.52315659e-01, -3.36700526e-01,\n",
              "       -2.28641712e-01, -1.25429598e-01, -2.47830328e-02,  7.53642388e-02,\n",
              "        1.77037607e-01,  2.82388346e-01,  3.93883041e-01,  5.14552908e-01,\n",
              "        6.48360827e-01,  8.00789303e-01,  9.79852084e-01,  1.19796218e+00,\n",
              "        1.47566791e+00,  1.84989999e+00,  2.39471572e+00,  3.28414081e+00,\n",
              "        5.04778831e+00,  1.04311877e+01, -2.25950846e+02, -9.54135166e+00,\n",
              "       -4.82342004e+00, -3.18276588e+00, -2.33634019e+00, -1.81138745e+00,\n",
              "       -1.44790359e+00, -1.17663356e+00, -9.62651053e-01, -7.86363656e-01,\n",
              "       -6.35859929e-01, -5.03408406e-01, -3.83693630e-01, -2.72854661e-01,\n",
              "       -1.67922803e-01, -6.64682419e-02,  3.36420689e-02,  1.34430507e-01,\n",
              "        2.37974995e-01,  3.46585130e-01,  4.63021133e-01,  5.90802773e-01,\n",
              "        7.34688300e-01,  9.01474935e-01,  1.10143337e+00,  1.35107835e+00,\n",
              "        1.67902113e+00,  2.13984226e+00,  2.85263975e+00,  4.13708556e+00,\n",
              "        7.24460662e+00,  2.68932408e+01, -1.58942390e+01, -6.08688520e+00,\n",
              "       -3.71667925e+00, -2.63406913e+00, -2.00407940e+00, -1.58502920e+00,\n",
              "       -1.28097650e+00, -1.04618011e+00, -8.55993401e-01, -6.95891517e-01,\n",
              "       -5.56687766e-01, -4.32211863e-01, -3.18083246e-01, -2.11014105e-01,\n",
              "       -1.08384709e-01, -7.96343628e-03,  9.22974893e-02,  1.94432733e-01,\n",
              "        3.00632242e-01,  4.13437784e-01,  5.36007184e-01,  6.72509487e-01,\n",
              "        8.28765988e-01,  1.01336607e+00,  1.23975362e+00,  1.53046300e+00,\n",
              "        1.92665137e+00,  2.51271973e+00,  3.49391565e+00,  5.53439146e+00,\n",
              "        1.26706017e+01, -4.70730007e+01, -8.20762224e+00, -4.44598145e+00,\n",
              "       -3.00510931e+00, -2.23183823e+00, -1.74152300e+00, -1.39707094e+00,\n",
              "       -1.13731371e+00, -9.30767321e-01, -7.59503919e-01, -6.12494373e-01,\n",
              "       -4.82507482e-01, -3.64525326e-01, -2.54868943e-01, -1.50681026e-01,\n",
              "       -4.95965277e-02])"
            ]
          },
          "metadata": {
            "tags": []
          },
          "execution_count": 24
        }
      ]
    },
    {
      "cell_type": "code",
      "metadata": {
        "colab": {
          "base_uri": "https://localhost:8080/",
          "height": 282
        },
        "id": "Rt0uy5l4RH6u",
        "outputId": "2dd72e88-7177-4c6c-abe1-39fb946f12f2"
      },
      "source": [
        "plt.plot(x, tg, color=\"orange\")"
      ],
      "execution_count": 31,
      "outputs": [
        {
          "output_type": "execute_result",
          "data": {
            "text/plain": [
              "[<matplotlib.lines.Line2D at 0x7ff184bb6c10>]"
            ]
          },
          "metadata": {
            "tags": []
          },
          "execution_count": 31
        },
        {
          "output_type": "display_data",
          "data": {
            "image/png": "[encoded data removed]",
            "text/plain": [
              "<Figure size 432x288 with 1 Axes>"
            ]
          },
          "metadata": {
            "tags": [],
            "needs_background": "light"
          }
        }
      ]
    },
    {
      "cell_type": "code",
      "metadata": {
        "colab": {
          "base_uri": "https://localhost:8080/",
          "height": 299
        },
        "id": "SY_f9wVmP04q",
        "outputId": "f93db785-3a64-41e1-b309-72fc6287d898"
      },
      "source": [
        "plt.plot(x,sen, x,tg)"
      ],
      "execution_count": 29,
      "outputs": [
        {
          "output_type": "execute_result",
          "data": {
            "text/plain": [
              "[<matplotlib.lines.Line2D at 0x7ff184cb5b10>,\n",
              " <matplotlib.lines.Line2D at 0x7ff184cb5d10>]"
            ]
          },
          "metadata": {
            "tags": []
          },
          "execution_count": 29
        },
        {
          "output_type": "display_data",
          "data": {
            "image/png": "[encoded data removed]",
            "text/plain": [
              "<Figure size 432x288 with 1 Axes>"
            ]
          },
          "metadata": {
            "tags": [],
            "needs_background": "light"
          }
        }
      ]
    },
    {
      "cell_type": "code",
      "metadata": {
        "colab": {
          "base_uri": "https://localhost:8080/",
          "height": 282
        },
        "id": "Y88_Nn0TRRGX",
        "outputId": "64225210-1f26-46be-fdef-93a7f708a2c9"
      },
      "source": [
        "plt.plot(x, sen-tg, color=\"green\")"
      ],
      "execution_count": 33,
      "outputs": [
        {
          "output_type": "execute_result",
          "data": {
            "text/plain": [
              "[<matplotlib.lines.Line2D at 0x7ff184b89e90>]"
            ]
          },
          "metadata": {
            "tags": []
          },
          "execution_count": 33
        },
        {
          "output_type": "display_data",
          "data": {
            "image/png": "[encoded data removed]",
            "text/plain": [
              "<Figure size 432x288 with 1 Axes>"
            ]
          },
          "metadata": {
            "tags": [],
            "needs_background": "light"
          }
        }
      ]
    },
    {
      "cell_type": "code",
      "metadata": {
        "colab": {
          "base_uri": "https://localhost:8080/"
        },
        "id": "p8v3pxEQRozn",
        "outputId": "21dc9f09-c838-4797-c1ed-075d0c3f181e"
      },
      "source": [
        "y = sen-tg\n",
        "ind = []\n",
        "for i in range(0,len(y),1):\n",
        "  if y[i] <= 0.0000000001:\n",
        "    ind.append(i)\n",
        "\n",
        "x[ind] #array com valores de x onde sen-tg é quase igual a zero\n",
        "\n"
      ],
      "execution_count": 43,
      "outputs": [
        {
          "output_type": "execute_result",
          "data": {
            "text/plain": [
              "array([ 0. ,  0.1,  0.2,  0.3,  0.4,  0.5,  0.6,  0.7,  0.8,  0.9,  1. ,\n",
              "        1.1,  1.2,  1.3,  1.4,  1.5,  3.2,  3.3,  3.4,  3.5,  3.6,  3.7,\n",
              "        3.8,  3.9,  4. ,  4.1,  4.2,  4.3,  4.4,  4.5,  4.6,  4.7,  6.3,\n",
              "        6.4,  6.5,  6.6,  6.7,  6.8,  6.9,  7. ,  7.1,  7.2,  7.3,  7.4,\n",
              "        7.5,  7.6,  7.7,  7.8,  9.5,  9.6,  9.7,  9.8,  9.9, 10. , 10.1,\n",
              "       10.2, 10.3, 10.4, 10.5, 10.6, 10.7, 10.8, 10.9, 12.6, 12.7, 12.8,\n",
              "       12.9, 13. , 13.1, 13.2, 13.3, 13.4, 13.5, 13.6, 13.7, 13.8, 13.9,\n",
              "       14. , 14.1, 15.8, 15.9, 16. , 16.1, 16.2, 16.3, 16.4, 16.5, 16.6,\n",
              "       16.7, 16.8, 16.9, 17. , 17.1, 17.2])"
            ]
          },
          "metadata": {
            "tags": []
          },
          "execution_count": 43
        }
      ]
    },
    {
      "cell_type": "markdown",
      "metadata": {
        "id": "Qo0cjo1fU3mq"
      },
      "source": [
        "* potencialmente talvez pudessemos explorar alguma aplicação de otimização da função y"
      ]
    },
    {
      "cell_type": "markdown",
      "metadata": {
        "id": "xrLERKyWKQIp"
      },
      "source": [
        "## Exercício 3\n",
        "- Use um conjunto de dados em formato `csv` ou `xlsx` que contenha a relação entre duas variáveis físicas. Pode aproveitar algum dado do curso.\n",
        "- Faça um gráfico de dispersão de pontos e encontre a regressão linear entre os dados."
      ]
    },
    {
      "cell_type": "code",
      "metadata": {
        "colab": {
          "base_uri": "https://localhost:8080/"
        },
        "id": "yTiZQHbcIkeB",
        "outputId": "20b41a58-64c4-494d-8460-3958b26b4a65"
      },
      "source": [
        "#Conectando com drive\n",
        "from google.colab import drive\n",
        "drive.mount('/content/drive/') #autentica na primeira vez que conecta"
      ],
      "execution_count": 44,
      "outputs": [
        {
          "output_type": "stream",
          "text": [
            "Mounted at /content/drive/\n"
          ],
          "name": "stdout"
        }
      ]
    },
    {
      "cell_type": "code",
      "metadata": {
        "colab": {
          "base_uri": "https://localhost:8080/"
        },
        "id": "pbH03aTbVUw5",
        "outputId": "bcf1dd44-df15-49b3-9ea0-b07771ad8640"
      },
      "source": [
        "pasta = '/content/drive/My Drive/Colab Notebooks/CursoPy - UNICAMP/CETESB/'\n",
        "import os\n",
        "lista = os.listdir(pasta)\n",
        "lista"
      ],
      "execution_count": 58,
      "outputs": [
        {
          "output_type": "execute_result",
          "data": {
            "text/plain": [
              "['cetesb_prespru.csv', 'cetesb_camp.csv']"
            ]
          },
          "metadata": {
            "tags": []
          },
          "execution_count": 58
        }
      ]
    },
    {
      "cell_type": "code",
      "metadata": {
        "id": "3I7fZGrxVY4i"
      },
      "source": [
        "import numpy as np\n",
        "import matplotlib.pyplot as plt\n",
        "import pandas as pd\n",
        "from sklearn.linear_model import LinearRegression"
      ],
      "execution_count": 47,
      "outputs": []
    },
    {
      "cell_type": "markdown",
      "metadata": {
        "id": "rSeTHZpSWeTB"
      },
      "source": [
        "Trabalhar com dados de qualidade do ar da CETESB na estação CAMPINAS."
      ]
    },
    {
      "cell_type": "code",
      "metadata": {
        "colab": {
          "base_uri": "https://localhost:8080/",
          "height": 35
        },
        "id": "LYxng-i8WV48",
        "outputId": "e7c48968-1da2-418b-a0a4-2cf969b72748"
      },
      "source": [
        "file = lista[1] #dados de Campinas\n",
        "file"
      ],
      "execution_count": 59,
      "outputs": [
        {
          "output_type": "execute_result",
          "data": {
            "application/vnd.google.colaboratory.intrinsic+json": {
              "type": "string"
            },
            "text/plain": [
              "'cetesb_camp.csv'"
            ]
          },
          "metadata": {
            "tags": []
          },
          "execution_count": 59
        }
      ]
    },
    {
      "cell_type": "code",
      "metadata": {
        "colab": {
          "base_uri": "https://localhost:8080/",
          "height": 640
        },
        "id": "nQwIz6QDWjfm",
        "outputId": "731c723e-67c1-4858-fc19-f9c0fc853184"
      },
      "source": [
        "T = pd.read_csv(pasta+file , decimal=',', skiprows=7, parse_dates=[0,1])\n",
        "T"
      ],
      "execution_count": 60,
      "outputs": [
        {
          "output_type": "execute_result",
          "data": {
            "text/html": [
              "<div>\n",
              "<style scoped>\n",
              "    .dataframe tbody tr th:only-of-type {\n",
              "        vertical-align: middle;\n",
              "    }\n",
              "\n",
              "    .dataframe tbody tr th {\n",
              "        vertical-align: top;\n",
              "    }\n",
              "\n",
              "    .dataframe thead th {\n",
              "        text-align: right;\n",
              "    }\n",
              "</style>\n",
              "<table border=\"1\" class=\"dataframe\">\n",
              "  <thead>\n",
              "    <tr style=\"text-align: right;\">\n",
              "      <th></th>\n",
              "      <th>Unnamed: 0</th>\n",
              "      <th>Unnamed: 1</th>\n",
              "      <th>MP10(Partículas Inaláveis) - µg/m3</th>\n",
              "      <th>NOx(Óxidos de Nitrogênio) - ppb</th>\n",
              "      <th>TEMP(Temperatura do Ar) - °C</th>\n",
              "    </tr>\n",
              "  </thead>\n",
              "  <tbody>\n",
              "    <tr>\n",
              "      <th>0</th>\n",
              "      <td>2020-09-18</td>\n",
              "      <td>01:00</td>\n",
              "      <td>16</td>\n",
              "      <td>NaN</td>\n",
              "      <td>21.0</td>\n",
              "    </tr>\n",
              "    <tr>\n",
              "      <th>1</th>\n",
              "      <td>2020-09-18</td>\n",
              "      <td>02:00</td>\n",
              "      <td>27</td>\n",
              "      <td>2.0</td>\n",
              "      <td>21.0</td>\n",
              "    </tr>\n",
              "    <tr>\n",
              "      <th>2</th>\n",
              "      <td>2020-09-18</td>\n",
              "      <td>03:00</td>\n",
              "      <td>31</td>\n",
              "      <td>1.0</td>\n",
              "      <td>21.2</td>\n",
              "    </tr>\n",
              "    <tr>\n",
              "      <th>3</th>\n",
              "      <td>2020-09-18</td>\n",
              "      <td>04:00</td>\n",
              "      <td>29</td>\n",
              "      <td>1.0</td>\n",
              "      <td>21.3</td>\n",
              "    </tr>\n",
              "    <tr>\n",
              "      <th>4</th>\n",
              "      <td>2020-09-18</td>\n",
              "      <td>05:00</td>\n",
              "      <td>23</td>\n",
              "      <td>1.0</td>\n",
              "      <td>21.2</td>\n",
              "    </tr>\n",
              "    <tr>\n",
              "      <th>...</th>\n",
              "      <td>...</td>\n",
              "      <td>...</td>\n",
              "      <td>...</td>\n",
              "      <td>...</td>\n",
              "      <td>...</td>\n",
              "    </tr>\n",
              "    <tr>\n",
              "      <th>67</th>\n",
              "      <td>2020-09-20</td>\n",
              "      <td>20:00</td>\n",
              "      <td>21</td>\n",
              "      <td>NaN</td>\n",
              "      <td>19.7</td>\n",
              "    </tr>\n",
              "    <tr>\n",
              "      <th>68</th>\n",
              "      <td>2020-09-20</td>\n",
              "      <td>21:00</td>\n",
              "      <td>15</td>\n",
              "      <td>NaN</td>\n",
              "      <td>19.1</td>\n",
              "    </tr>\n",
              "    <tr>\n",
              "      <th>69</th>\n",
              "      <td>2020-09-20</td>\n",
              "      <td>22:00</td>\n",
              "      <td>12</td>\n",
              "      <td>NaN</td>\n",
              "      <td>18.6</td>\n",
              "    </tr>\n",
              "    <tr>\n",
              "      <th>70</th>\n",
              "      <td>2020-09-20</td>\n",
              "      <td>23:00</td>\n",
              "      <td>9</td>\n",
              "      <td>NaN</td>\n",
              "      <td>18.2</td>\n",
              "    </tr>\n",
              "    <tr>\n",
              "      <th>71</th>\n",
              "      <td>2020-09-20</td>\n",
              "      <td>24:00</td>\n",
              "      <td>8</td>\n",
              "      <td>NaN</td>\n",
              "      <td>18.2</td>\n",
              "    </tr>\n",
              "  </tbody>\n",
              "</table>\n",
              "<p>72 rows × 5 columns</p>\n",
              "</div>"
            ],
            "text/plain": [
              "   Unnamed: 0  ... TEMP(Temperatura do Ar) - °C\n",
              "0  2020-09-18  ...                         21.0\n",
              "1  2020-09-18  ...                         21.0\n",
              "2  2020-09-18  ...                         21.2\n",
              "3  2020-09-18  ...                         21.3\n",
              "4  2020-09-18  ...                         21.2\n",
              "..        ...  ...                          ...\n",
              "67 2020-09-20  ...                         19.7\n",
              "68 2020-09-20  ...                         19.1\n",
              "69 2020-09-20  ...                         18.6\n",
              "70 2020-09-20  ...                         18.2\n",
              "71 2020-09-20  ...                         18.2\n",
              "\n",
              "[72 rows x 5 columns]"
            ]
          },
          "metadata": {
            "tags": []
          },
          "execution_count": 60
        }
      ]
    },
    {
      "cell_type": "markdown",
      "metadata": {
        "id": "6192C1ysXdyD"
      },
      "source": [
        "Fazer scatterplot entre MP10 e NOx para avaliar potencial relação."
      ]
    },
    {
      "cell_type": "code",
      "metadata": {
        "id": "W17SKTKGXdPc"
      },
      "source": [
        "x = T['MP10(Partículas Inaláveis) - µg/m3'].values.reshape(-1,1)\n",
        "y = T['NOx(Óxidos de Nitrogênio) - ppb'].values.reshape(-1,1)"
      ],
      "execution_count": 61,
      "outputs": []
    },
    {
      "cell_type": "code",
      "metadata": {
        "colab": {
          "base_uri": "https://localhost:8080/",
          "height": 312
        },
        "id": "GA9GnWN4YeYM",
        "outputId": "3b382fbc-a42c-4231-c398-0b65fadf0804"
      },
      "source": [
        "plt.plot(x,y,'o')\n",
        "plt.title('Scatterplot - MP10 vs NOx')\n",
        "plt.xlabel('MP10')\n",
        "plt.ylabel('NOx')"
      ],
      "execution_count": 62,
      "outputs": [
        {
          "output_type": "execute_result",
          "data": {
            "text/plain": [
              "Text(0, 0.5, 'NOx')"
            ]
          },
          "metadata": {
            "tags": []
          },
          "execution_count": 62
        },
        {
          "output_type": "display_data",
          "data": {
            "image/png": "[encoded data removed]",
            "text/plain": [
              "<Figure size 432x288 with 1 Axes>"
            ]
          },
          "metadata": {
            "tags": [],
            "needs_background": "light"
          }
        }
      ]
    },
    {
      "cell_type": "markdown",
      "metadata": {
        "id": "8MCkPgrSX1BU"
      },
      "source": [
        "Tentativa de modelo linear entre MP10 e NOx."
      ]
    },
    {
      "cell_type": "code",
      "metadata": {
        "id": "9jNDlaLJX5WY"
      },
      "source": [
        "modelo = LinearRegression()"
      ],
      "execution_count": 63,
      "outputs": []
    },
    {
      "cell_type": "code",
      "metadata": {
        "colab": {
          "base_uri": "https://localhost:8080/",
          "height": 323
        },
        "id": "uU5G30mBZW29",
        "outputId": "45d41990-d064-4e88-b4c9-6ef0e4546547"
      },
      "source": [
        "#drop NA values\n",
        "Tlimpa = T.dropna()\n",
        "Tlimpa.head(5)"
      ],
      "execution_count": 69,
      "outputs": [
        {
          "output_type": "execute_result",
          "data": {
            "text/html": [
              "<div>\n",
              "<style scoped>\n",
              "    .dataframe tbody tr th:only-of-type {\n",
              "        vertical-align: middle;\n",
              "    }\n",
              "\n",
              "    .dataframe tbody tr th {\n",
              "        vertical-align: top;\n",
              "    }\n",
              "\n",
              "    .dataframe thead th {\n",
              "        text-align: right;\n",
              "    }\n",
              "</style>\n",
              "<table border=\"1\" class=\"dataframe\">\n",
              "  <thead>\n",
              "    <tr style=\"text-align: right;\">\n",
              "      <th></th>\n",
              "      <th>Unnamed: 0</th>\n",
              "      <th>Unnamed: 1</th>\n",
              "      <th>MP10(Partículas Inaláveis) - µg/m3</th>\n",
              "      <th>NOx(Óxidos de Nitrogênio) - ppb</th>\n",
              "      <th>TEMP(Temperatura do Ar) - °C</th>\n",
              "    </tr>\n",
              "  </thead>\n",
              "  <tbody>\n",
              "    <tr>\n",
              "      <th>1</th>\n",
              "      <td>2020-09-18</td>\n",
              "      <td>02:00</td>\n",
              "      <td>27</td>\n",
              "      <td>2.0</td>\n",
              "      <td>21.0</td>\n",
              "    </tr>\n",
              "    <tr>\n",
              "      <th>2</th>\n",
              "      <td>2020-09-18</td>\n",
              "      <td>03:00</td>\n",
              "      <td>31</td>\n",
              "      <td>1.0</td>\n",
              "      <td>21.2</td>\n",
              "    </tr>\n",
              "    <tr>\n",
              "      <th>3</th>\n",
              "      <td>2020-09-18</td>\n",
              "      <td>04:00</td>\n",
              "      <td>29</td>\n",
              "      <td>1.0</td>\n",
              "      <td>21.3</td>\n",
              "    </tr>\n",
              "    <tr>\n",
              "      <th>4</th>\n",
              "      <td>2020-09-18</td>\n",
              "      <td>05:00</td>\n",
              "      <td>23</td>\n",
              "      <td>1.0</td>\n",
              "      <td>21.2</td>\n",
              "    </tr>\n",
              "    <tr>\n",
              "      <th>5</th>\n",
              "      <td>2020-09-18</td>\n",
              "      <td>06:00</td>\n",
              "      <td>29</td>\n",
              "      <td>4.0</td>\n",
              "      <td>21.1</td>\n",
              "    </tr>\n",
              "  </tbody>\n",
              "</table>\n",
              "</div>"
            ],
            "text/plain": [
              "  Unnamed: 0  ... TEMP(Temperatura do Ar) - °C\n",
              "1 2020-09-18  ...                         21.0\n",
              "2 2020-09-18  ...                         21.2\n",
              "3 2020-09-18  ...                         21.3\n",
              "4 2020-09-18  ...                         21.2\n",
              "5 2020-09-18  ...                         21.1\n",
              "\n",
              "[5 rows x 5 columns]"
            ]
          },
          "metadata": {
            "tags": []
          },
          "execution_count": 69
        }
      ]
    },
    {
      "cell_type": "code",
      "metadata": {
        "id": "8xgenHUMZmlV"
      },
      "source": [
        "x = Tlimpa['MP10(Partículas Inaláveis) - µg/m3'].values.reshape(-1,1)\n",
        "y = Tlimpa['NOx(Óxidos de Nitrogênio) - ppb'].values.reshape(-1,1)"
      ],
      "execution_count": 70,
      "outputs": []
    },
    {
      "cell_type": "code",
      "metadata": {
        "colab": {
          "base_uri": "https://localhost:8080/"
        },
        "id": "at1xiqEQX7pZ",
        "outputId": "3468b6ec-2d0f-4c8f-e77c-a600305b43d8"
      },
      "source": [
        "modelo.fit(x,y)"
      ],
      "execution_count": 71,
      "outputs": [
        {
          "output_type": "execute_result",
          "data": {
            "text/plain": [
              "LinearRegression(copy_X=True, fit_intercept=True, n_jobs=None, normalize=False)"
            ]
          },
          "metadata": {
            "tags": []
          },
          "execution_count": 71
        }
      ]
    },
    {
      "cell_type": "code",
      "metadata": {
        "id": "Bg7olqonYS0a"
      },
      "source": [
        "ym = modelo.predict(x)"
      ],
      "execution_count": 72,
      "outputs": []
    },
    {
      "cell_type": "code",
      "metadata": {
        "colab": {
          "base_uri": "https://localhost:8080/",
          "height": 312
        },
        "id": "OrOwEHaRYWHi",
        "outputId": "c06d085e-a85a-4978-abf2-e455249b6b68"
      },
      "source": [
        "plt.plot(x,y,'o',x,ym)\n",
        "plt.title('Teste de Regressão Linear - MP10 vs NOx')\n",
        "plt.xlabel('MP10')\n",
        "plt.ylabel('NOx')"
      ],
      "execution_count": 73,
      "outputs": [
        {
          "output_type": "execute_result",
          "data": {
            "text/plain": [
              "Text(0, 0.5, 'NOx')"
            ]
          },
          "metadata": {
            "tags": []
          },
          "execution_count": 73
        },
        {
          "output_type": "display_data",
          "data": {
            "image/png": "[encoded data removed]",
            "text/plain": [
              "<Figure size 432x288 with 1 Axes>"
            ]
          },
          "metadata": {
            "tags": [],
            "needs_background": "light"
          }
        }
      ]
    },
    {
      "cell_type": "markdown",
      "metadata": {
        "id": "M04CXNQ4K2Iu"
      },
      "source": [
        "## Exercicio 4\n",
        "\n",
        "- Descreva um problema de computacao cintifica de sua escolha e escreva os passos para sua solucao usando a linguagem Python."
      ]
    },
    {
      "cell_type": "markdown",
      "metadata": {
        "id": "wLIc2LnYZxwl"
      },
      "source": [
        "Considerando o cenário de geociências (enfoque em meteorologia), escolho o problema de avaliar tendências em dados climáticos. Como base em registros históricos ou dados de modelos podemos avaliar tendências temporais considerando técnicas de regressão.\n",
        "\n",
        " 1- Inicialmente devemos buscar nossa base de dados que podem ser arquivos csv/Excel contendo registros de estações, podem ser dados georreferenciados ou mapas (raster, shp, netcdf).  \n",
        " 2- O primeiro desafio é importar os dados em Python. Podemos utilizar os métodos open/read ou ainda usar pacotes como csv ou pandas para importar dados  \n",
        " 3- Uma vez importados, os dados precisamos limpar e tratar a informação (talvez a parte de datas precise de outro tratamento especial...  \n",
        "\n",
        " ACABOU O TEMPO..."
      ]
    }
  ]
}
